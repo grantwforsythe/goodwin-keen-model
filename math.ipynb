{
 "metadata": {
  "language_info": {
   "codemirror_mode": {
    "name": "ipython",
    "version": 3
   },
   "file_extension": ".py",
   "mimetype": "text/x-python",
   "name": "python",
   "nbconvert_exporter": "python",
   "pygments_lexer": "ipython3",
   "version": "3.8.3-final"
  },
  "orig_nbformat": 2,
  "kernelspec": {
   "name": "python3",
   "display_name": "Python 3"
  }
 },
 "nbformat": 4,
 "nbformat_minor": 2,
 "cells": [
  {
   "cell_type": "code",
   "execution_count": 1,
   "metadata": {},
   "outputs": [],
   "source": [
    "import matplotlib.pyplot as pyplot \n",
    "import numpy as np \n",
    "import numpy.random as random \n",
    "import scipy.optimize as optimize \n",
    "import scipy.integrate as integrate\n",
    "from sympy.solvers import solve\n",
    "from sympy import symbols"
   ]
  },
  {
   "cell_type": "code",
   "execution_count": 66,
   "metadata": {},
   "outputs": [
    {
     "output_type": "execute_result",
     "data": {
      "text/plain": [
       "[(0, 0, 0), (0, 0, (-delta*v + k*v - k + r*v - v)/(k*r*(v - 1)))]"
      ]
     },
     "metadata": {},
     "execution_count": 66
    }
   ],
   "source": [
    "# Use the solver! Python can do symbolic mathematics!\n",
    "# Given the parameters, Python will give symbolic solutions\n",
    "# These solutions are the equilibrium points\n",
    "\n",
    "v,Φ,k,r,alpha,beta, delta  = symbols('v  Φ(λ) k  r alpha beta  delta')\n",
    "dlam, domega, dd = symbols('λ^. ω^. d^.')\n",
    "\n",
    "Goodwin_Keen_model= np.array([dlam*((k*(1-domega-r*dd)/v)-alpha-beta-delta),    # dλ/dt-->dlam\n",
    "                        domega*(Φ-alpha), # dω/dt-->domega\n",
    "                        dd*(r-((k*(1-domega-r*dd)/v)+delta)+k*(1-domega-r*dd)-(1-domega)),      # dd/dt-->dd\n",
    "                        ])               \n",
    "\n",
    "solve(Goodwin_Keen_model,dlam, domega, dd)"
   ]
  },
  {
   "cell_type": "code",
   "execution_count": 58,
   "metadata": {},
   "outputs": [
    {
     "output_type": "execute_result",
     "data": {
      "text/plain": [
       "Φ(λ)"
      ],
      "text/latex": "$\\displaystyle Φ(λ)$"
     },
     "metadata": {},
     "execution_count": 58
    }
   ],
   "source": [
    "Φ"
   ]
  }
 ]
}